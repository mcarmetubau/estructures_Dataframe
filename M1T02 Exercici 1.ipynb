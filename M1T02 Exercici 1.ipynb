{
 "cells": [
  {
   "cell_type": "code",
   "execution_count": 33,
   "metadata": {},
   "outputs": [
    {
     "name": "stdout",
     "output_type": "stream",
     "text": [
      "<bound method NDFrame.head of          Year  Month  DayofMonth  DayOfWeek Origin Dest  ArrDelay\n",
      "0        2008      1           3          4    IAD  TPA     -14.0\n",
      "1        2008      1           3          4    IAD  TPA       2.0\n",
      "2        2008      1           3          4    IND  BWI      14.0\n",
      "3        2008      1           3          4    IND  BWI      34.0\n",
      "4        2008      1           3          4    IND  JAX      11.0\n",
      "...       ...    ...         ...        ...    ...  ...       ...\n",
      "1936753  2008     12          13          6    MSP  ATL      25.0\n",
      "1936754  2008     12          13          6    RIC  ATL      75.0\n",
      "1936755  2008     12          13          6    ATL  IAH      99.0\n",
      "1936756  2008     12          13          6    IAD  ATL       9.0\n",
      "1936757  2008     12          13          6    SAT  ATL      -5.0\n",
      "\n",
      "[1936758 rows x 7 columns]>\n",
      "            Year         Month    DayofMonth     DayOfWeek      ArrDelay\n",
      "count  1936758.0  1.936758e+06  1.936758e+06  1.936758e+06  1.928371e+06\n",
      "mean      2008.0  6.111106e+00  1.575347e+01  3.984827e+00  4.219988e+01\n",
      "std          0.0  3.482546e+00  8.776272e+00  1.995966e+00  5.678472e+01\n",
      "min       2008.0  1.000000e+00  1.000000e+00  1.000000e+00 -1.090000e+02\n",
      "25%       2008.0  3.000000e+00  8.000000e+00  2.000000e+00  9.000000e+00\n",
      "50%       2008.0  6.000000e+00  1.600000e+01  4.000000e+00  2.400000e+01\n",
      "75%       2008.0  9.000000e+00  2.300000e+01  6.000000e+00  5.600000e+01\n",
      "max       2008.0  1.200000e+01  3.100000e+01  7.000000e+00  2.461000e+03\n"
     ]
    }
   ],
   "source": [
    "%matplotlib inline\n",
    "import pandas as pd\n",
    "import matplotlib.pyplot as plt\n",
    "import numpy as np\n",
    "\n",
    "DelayFligths_df = pd.read_csv(\"DelayedFlights.csv\", parse_dates=True)\n",
    "\n",
    "\n",
    "df=DelayFligths_df[[\"Year\",\"Month\",\"DayofMonth\",\"DayOfWeek\",\"Origin\",\"Dest\",\"ArrDelay\"]]\n",
    "\n",
    "print(df.head)\n",
    "\n",
    "print(df.describe())\n"
   ]
  },
  {
   "cell_type": "code",
   "execution_count": null,
   "metadata": {},
   "outputs": [],
   "source": []
  }
 ],
 "metadata": {
  "kernelspec": {
   "display_name": "Python 3",
   "language": "python",
   "name": "python3"
  },
  "language_info": {
   "codemirror_mode": {
    "name": "ipython",
    "version": 3
   },
   "file_extension": ".py",
   "mimetype": "text/x-python",
   "name": "python",
   "nbconvert_exporter": "python",
   "pygments_lexer": "ipython3",
   "version": "3.8.5"
  }
 },
 "nbformat": 4,
 "nbformat_minor": 4
}
