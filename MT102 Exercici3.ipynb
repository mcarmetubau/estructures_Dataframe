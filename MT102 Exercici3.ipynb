{
 "cells": [
  {
   "cell_type": "code",
   "execution_count": null,
   "metadata": {},
   "outputs": [],
   "source": [
    "%matplotlib inline\n",
    "import pandas as pd\n",
    "import matplotlib.pyplot as plt\n",
    "import numpy as np\n",
    "\n",
    "DelayFligths_df = pd.read_csv(\"DelayedFlights.csv\", parse_dates=True)\n",
    "\n",
    "\n",
    "df=DelayFligths_df[[\"Year\",\"Month\",\"DayofMonth\",\"DayOfWeek\",\"UniqueCarrier\",\"Origin\",\"Dest\",\"AirTime\",\"Distance\",\"ArrDelay\"]]\n",
    "\n",
    "df[\"ArrDelay\"] = df['ArrDelay'].fillna(df['ArrDelay'].mean())\n",
    "\n",
    "df['VelMitjanaVol'] = (df['Distance'] / df['AirTime'])\n",
    "\n",
    "df[\"Retard\"] = df[\"ArrDelay\"] > 0\n",
    "\n",
    "#limitació del numero de files de EXCEL\n",
    "df[:1048574].to_excel(\"output.xlsx\")\n"
   ]
  },
  {
   "cell_type": "code",
   "execution_count": null,
   "metadata": {},
   "outputs": [],
   "source": []
  },
  {
   "cell_type": "code",
   "execution_count": null,
   "metadata": {},
   "outputs": [],
   "source": []
  }
 ],
 "metadata": {
  "kernelspec": {
   "display_name": "Python 3",
   "language": "python",
   "name": "python3"
  },
  "language_info": {
   "codemirror_mode": {
    "name": "ipython",
    "version": 3
   },
   "file_extension": ".py",
   "mimetype": "text/x-python",
   "name": "python",
   "nbconvert_exporter": "python",
   "pygments_lexer": "ipython3",
   "version": "3.8.5"
  }
 },
 "nbformat": 4,
 "nbformat_minor": 4
}
