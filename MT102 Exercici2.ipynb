{
 "cells": [
  {
   "cell_type": "code",
   "execution_count": null,
   "metadata": {},
   "outputs": [],
   "source": [
    "%matplotlib inline\n",
    "import pandas as pd\n",
    "import matplotlib.pyplot as plt\n",
    "import numpy as np\n",
    "\n",
    "DelayFligths_df = pd.read_csv(\"DelayedFlights.csv\", parse_dates=True)\n",
    "\n",
    "\n",
    "df=DelayFligths_df[[\"Year\",\"Month\",\"DayofMonth\",\"DayOfWeek\",\"UniqueCarrier\",\"Origin\",\"Dest\",\"AirTime\",\"Distance\",\"ArrDelay\"]]\n",
    "\n",
    "  \n",
    "# Print the dataframe\n",
    "print(\"Hi han nulls? : \" + str(df.isnull().values.any()))\n",
    "\n",
    "print (\"Nuls a la columna retard: \" + str(df['ArrDelay'].isnull().sum()))\n",
    "\n",
    "print (\"Totals de null: \" + str(df.isnull().sum().sum()))\n",
    "  \n",
    "#omplim els buits per la mitjana per no desvirtuar el calcul\n",
    "\n",
    "df[\"ArrDelay\"] = df['ArrDelay'].fillna(df['ArrDelay'].mean())\n",
    "\n",
    "print (\"Totals de null: \" + str(df.isnull().sum().sum()))\n",
    "\n",
    "df['VelMitjanaVol'] = (df['Distance'] / df['AirTime'])\n",
    "\n",
    "df[\"Retard\"] = df[\"ArrDelay\"] > 0\n",
    "\n",
    "\n",
    "amb_retard = df['ArrDelay'] > 0\n",
    "vols_retard = df[amb_retard]\n",
    "\n",
    "#Taula de les aerolínies amb més endarreriments acumulats\n",
    "vols_retard_recompte = vols_retard['UniqueCarrier'].value_counts()\n",
    "\n",
    "print(vols_retard_recompte)\n",
    "\n",
    "#Quins són els 10 vols més llargs?\n",
    "df2 = df.sort_values([\"Distance\"], ascending=False)\n",
    "print(df2.groupby([\"Distance\",\"Origin\",\"Dest\"],sort=False)[\"ArrDelay\"].count()[:10])\n",
    "\n",
    "#els 10 vals amb més retard acumulat\n",
    "\n",
    "print(df.groupby([\"Origin\",\"Dest\"])[\"ArrDelay\"].sum().sort_values(ascending=False)[:10])\n"
   ]
  },
  {
   "cell_type": "code",
   "execution_count": null,
   "metadata": {},
   "outputs": [],
   "source": []
  },
  {
   "cell_type": "code",
   "execution_count": null,
   "metadata": {},
   "outputs": [],
   "source": []
  },
  {
   "cell_type": "code",
   "execution_count": null,
   "metadata": {},
   "outputs": [],
   "source": []
  }
 ],
 "metadata": {
  "kernelspec": {
   "display_name": "Python 3",
   "language": "python",
   "name": "python3"
  },
  "language_info": {
   "codemirror_mode": {
    "name": "ipython",
    "version": 3
   },
   "file_extension": ".py",
   "mimetype": "text/x-python",
   "name": "python",
   "nbconvert_exporter": "python",
   "pygments_lexer": "ipython3",
   "version": "3.8.5"
  }
 },
 "nbformat": 4,
 "nbformat_minor": 4
}
